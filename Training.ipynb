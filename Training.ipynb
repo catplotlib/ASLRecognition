{
  "cells": [
    {
      "cell_type": "code",
      "execution_count": 51,
      "metadata": {
        "id": "I59CbaVPRlne"
      },
      "outputs": [],
      "source": [
        "# import pandas and numpy libraries\n",
        "import pandas as pd\n",
        "import numpy as np"
      ]
    },
    {
      "cell_type": "code",
      "execution_count": 52,
      "metadata": {
        "colab": {
          "base_uri": "https://localhost:8080/",
          "height": 300
        },
        "id": "ledLDE7sRmj3",
        "outputId": "62fbce84-0cba-408c-a5f3-9d7efee3a093"
      },
      "outputs": [
        {
          "ename": "FileNotFoundError",
          "evalue": "[Errno 2] No such file or directory: './sign_mnist_train.csv'",
          "output_type": "error",
          "traceback": [
            "\u001b[0;31m---------------------------------------------------------------------------\u001b[0m",
            "\u001b[0;31mFileNotFoundError\u001b[0m                         Traceback (most recent call last)",
            "Cell \u001b[0;32mIn[52], line 2\u001b[0m\n\u001b[1;32m      1\u001b[0m \u001b[39m# read training and testing data from CSV files\u001b[39;00m\n\u001b[0;32m----> 2\u001b[0m training_set \u001b[39m=\u001b[39m pd\u001b[39m.\u001b[39;49mread_csv(\u001b[39m'\u001b[39;49m\u001b[39m./sign_mnist_train.csv\u001b[39;49m\u001b[39m'\u001b[39;49m)\n\u001b[1;32m      3\u001b[0m testing_set \u001b[39m=\u001b[39m pd\u001b[39m.\u001b[39mread_csv(\u001b[39m'\u001b[39m\u001b[39m./sign_mnist_test.csv\u001b[39m\u001b[39m'\u001b[39m)\n\u001b[1;32m      5\u001b[0m \u001b[39m# extract the labels from the training and testing sets\u001b[39;00m\n",
            "File \u001b[0;32m~/anaconda3/envs/tf/lib/python3.10/site-packages/pandas/io/parsers/readers.py:912\u001b[0m, in \u001b[0;36mread_csv\u001b[0;34m(filepath_or_buffer, sep, delimiter, header, names, index_col, usecols, dtype, engine, converters, true_values, false_values, skipinitialspace, skiprows, skipfooter, nrows, na_values, keep_default_na, na_filter, verbose, skip_blank_lines, parse_dates, infer_datetime_format, keep_date_col, date_parser, date_format, dayfirst, cache_dates, iterator, chunksize, compression, thousands, decimal, lineterminator, quotechar, quoting, doublequote, escapechar, comment, encoding, encoding_errors, dialect, on_bad_lines, delim_whitespace, low_memory, memory_map, float_precision, storage_options, dtype_backend)\u001b[0m\n\u001b[1;32m    899\u001b[0m kwds_defaults \u001b[39m=\u001b[39m _refine_defaults_read(\n\u001b[1;32m    900\u001b[0m     dialect,\n\u001b[1;32m    901\u001b[0m     delimiter,\n\u001b[0;32m   (...)\u001b[0m\n\u001b[1;32m    908\u001b[0m     dtype_backend\u001b[39m=\u001b[39mdtype_backend,\n\u001b[1;32m    909\u001b[0m )\n\u001b[1;32m    910\u001b[0m kwds\u001b[39m.\u001b[39mupdate(kwds_defaults)\n\u001b[0;32m--> 912\u001b[0m \u001b[39mreturn\u001b[39;00m _read(filepath_or_buffer, kwds)\n",
            "File \u001b[0;32m~/anaconda3/envs/tf/lib/python3.10/site-packages/pandas/io/parsers/readers.py:577\u001b[0m, in \u001b[0;36m_read\u001b[0;34m(filepath_or_buffer, kwds)\u001b[0m\n\u001b[1;32m    574\u001b[0m _validate_names(kwds\u001b[39m.\u001b[39mget(\u001b[39m\"\u001b[39m\u001b[39mnames\u001b[39m\u001b[39m\"\u001b[39m, \u001b[39mNone\u001b[39;00m))\n\u001b[1;32m    576\u001b[0m \u001b[39m# Create the parser.\u001b[39;00m\n\u001b[0;32m--> 577\u001b[0m parser \u001b[39m=\u001b[39m TextFileReader(filepath_or_buffer, \u001b[39m*\u001b[39;49m\u001b[39m*\u001b[39;49mkwds)\n\u001b[1;32m    579\u001b[0m \u001b[39mif\u001b[39;00m chunksize \u001b[39mor\u001b[39;00m iterator:\n\u001b[1;32m    580\u001b[0m     \u001b[39mreturn\u001b[39;00m parser\n",
            "File \u001b[0;32m~/anaconda3/envs/tf/lib/python3.10/site-packages/pandas/io/parsers/readers.py:1407\u001b[0m, in \u001b[0;36mTextFileReader.__init__\u001b[0;34m(self, f, engine, **kwds)\u001b[0m\n\u001b[1;32m   1404\u001b[0m     \u001b[39mself\u001b[39m\u001b[39m.\u001b[39moptions[\u001b[39m\"\u001b[39m\u001b[39mhas_index_names\u001b[39m\u001b[39m\"\u001b[39m] \u001b[39m=\u001b[39m kwds[\u001b[39m\"\u001b[39m\u001b[39mhas_index_names\u001b[39m\u001b[39m\"\u001b[39m]\n\u001b[1;32m   1406\u001b[0m \u001b[39mself\u001b[39m\u001b[39m.\u001b[39mhandles: IOHandles \u001b[39m|\u001b[39m \u001b[39mNone\u001b[39;00m \u001b[39m=\u001b[39m \u001b[39mNone\u001b[39;00m\n\u001b[0;32m-> 1407\u001b[0m \u001b[39mself\u001b[39m\u001b[39m.\u001b[39m_engine \u001b[39m=\u001b[39m \u001b[39mself\u001b[39;49m\u001b[39m.\u001b[39;49m_make_engine(f, \u001b[39mself\u001b[39;49m\u001b[39m.\u001b[39;49mengine)\n",
            "File \u001b[0;32m~/anaconda3/envs/tf/lib/python3.10/site-packages/pandas/io/parsers/readers.py:1661\u001b[0m, in \u001b[0;36mTextFileReader._make_engine\u001b[0;34m(self, f, engine)\u001b[0m\n\u001b[1;32m   1659\u001b[0m     \u001b[39mif\u001b[39;00m \u001b[39m\"\u001b[39m\u001b[39mb\u001b[39m\u001b[39m\"\u001b[39m \u001b[39mnot\u001b[39;00m \u001b[39min\u001b[39;00m mode:\n\u001b[1;32m   1660\u001b[0m         mode \u001b[39m+\u001b[39m\u001b[39m=\u001b[39m \u001b[39m\"\u001b[39m\u001b[39mb\u001b[39m\u001b[39m\"\u001b[39m\n\u001b[0;32m-> 1661\u001b[0m \u001b[39mself\u001b[39m\u001b[39m.\u001b[39mhandles \u001b[39m=\u001b[39m get_handle(\n\u001b[1;32m   1662\u001b[0m     f,\n\u001b[1;32m   1663\u001b[0m     mode,\n\u001b[1;32m   1664\u001b[0m     encoding\u001b[39m=\u001b[39;49m\u001b[39mself\u001b[39;49m\u001b[39m.\u001b[39;49moptions\u001b[39m.\u001b[39;49mget(\u001b[39m\"\u001b[39;49m\u001b[39mencoding\u001b[39;49m\u001b[39m\"\u001b[39;49m, \u001b[39mNone\u001b[39;49;00m),\n\u001b[1;32m   1665\u001b[0m     compression\u001b[39m=\u001b[39;49m\u001b[39mself\u001b[39;49m\u001b[39m.\u001b[39;49moptions\u001b[39m.\u001b[39;49mget(\u001b[39m\"\u001b[39;49m\u001b[39mcompression\u001b[39;49m\u001b[39m\"\u001b[39;49m, \u001b[39mNone\u001b[39;49;00m),\n\u001b[1;32m   1666\u001b[0m     memory_map\u001b[39m=\u001b[39;49m\u001b[39mself\u001b[39;49m\u001b[39m.\u001b[39;49moptions\u001b[39m.\u001b[39;49mget(\u001b[39m\"\u001b[39;49m\u001b[39mmemory_map\u001b[39;49m\u001b[39m\"\u001b[39;49m, \u001b[39mFalse\u001b[39;49;00m),\n\u001b[1;32m   1667\u001b[0m     is_text\u001b[39m=\u001b[39;49mis_text,\n\u001b[1;32m   1668\u001b[0m     errors\u001b[39m=\u001b[39;49m\u001b[39mself\u001b[39;49m\u001b[39m.\u001b[39;49moptions\u001b[39m.\u001b[39;49mget(\u001b[39m\"\u001b[39;49m\u001b[39mencoding_errors\u001b[39;49m\u001b[39m\"\u001b[39;49m, \u001b[39m\"\u001b[39;49m\u001b[39mstrict\u001b[39;49m\u001b[39m\"\u001b[39;49m),\n\u001b[1;32m   1669\u001b[0m     storage_options\u001b[39m=\u001b[39;49m\u001b[39mself\u001b[39;49m\u001b[39m.\u001b[39;49moptions\u001b[39m.\u001b[39;49mget(\u001b[39m\"\u001b[39;49m\u001b[39mstorage_options\u001b[39;49m\u001b[39m\"\u001b[39;49m, \u001b[39mNone\u001b[39;49;00m),\n\u001b[1;32m   1670\u001b[0m )\n\u001b[1;32m   1671\u001b[0m \u001b[39massert\u001b[39;00m \u001b[39mself\u001b[39m\u001b[39m.\u001b[39mhandles \u001b[39mis\u001b[39;00m \u001b[39mnot\u001b[39;00m \u001b[39mNone\u001b[39;00m\n\u001b[1;32m   1672\u001b[0m f \u001b[39m=\u001b[39m \u001b[39mself\u001b[39m\u001b[39m.\u001b[39mhandles\u001b[39m.\u001b[39mhandle\n",
            "File \u001b[0;32m~/anaconda3/envs/tf/lib/python3.10/site-packages/pandas/io/common.py:859\u001b[0m, in \u001b[0;36mget_handle\u001b[0;34m(path_or_buf, mode, encoding, compression, memory_map, is_text, errors, storage_options)\u001b[0m\n\u001b[1;32m    854\u001b[0m \u001b[39melif\u001b[39;00m \u001b[39misinstance\u001b[39m(handle, \u001b[39mstr\u001b[39m):\n\u001b[1;32m    855\u001b[0m     \u001b[39m# Check whether the filename is to be opened in binary mode.\u001b[39;00m\n\u001b[1;32m    856\u001b[0m     \u001b[39m# Binary mode does not support 'encoding' and 'newline'.\u001b[39;00m\n\u001b[1;32m    857\u001b[0m     \u001b[39mif\u001b[39;00m ioargs\u001b[39m.\u001b[39mencoding \u001b[39mand\u001b[39;00m \u001b[39m\"\u001b[39m\u001b[39mb\u001b[39m\u001b[39m\"\u001b[39m \u001b[39mnot\u001b[39;00m \u001b[39min\u001b[39;00m ioargs\u001b[39m.\u001b[39mmode:\n\u001b[1;32m    858\u001b[0m         \u001b[39m# Encoding\u001b[39;00m\n\u001b[0;32m--> 859\u001b[0m         handle \u001b[39m=\u001b[39m \u001b[39mopen\u001b[39;49m(\n\u001b[1;32m    860\u001b[0m             handle,\n\u001b[1;32m    861\u001b[0m             ioargs\u001b[39m.\u001b[39;49mmode,\n\u001b[1;32m    862\u001b[0m             encoding\u001b[39m=\u001b[39;49mioargs\u001b[39m.\u001b[39;49mencoding,\n\u001b[1;32m    863\u001b[0m             errors\u001b[39m=\u001b[39;49merrors,\n\u001b[1;32m    864\u001b[0m             newline\u001b[39m=\u001b[39;49m\u001b[39m\"\u001b[39;49m\u001b[39m\"\u001b[39;49m,\n\u001b[1;32m    865\u001b[0m         )\n\u001b[1;32m    866\u001b[0m     \u001b[39melse\u001b[39;00m:\n\u001b[1;32m    867\u001b[0m         \u001b[39m# Binary mode\u001b[39;00m\n\u001b[1;32m    868\u001b[0m         handle \u001b[39m=\u001b[39m \u001b[39mopen\u001b[39m(handle, ioargs\u001b[39m.\u001b[39mmode)\n",
            "\u001b[0;31mFileNotFoundError\u001b[0m: [Errno 2] No such file or directory: './sign_mnist_train.csv'"
          ]
        }
      ],
      "source": [
        "# read training and testing data from CSV files\n",
        "training_set = pd.read_csv('./sign_mnist_train.csv')\n",
        "testing_set = pd.read_csv('./sign_mnist_test.csv')\n",
        "\n",
        "# extract the labels from the training and testing sets\n",
        "y_train = training_set['label'].values\n",
        "y_test = testing_set['label'].values\n",
        "\n",
        "# remove the labels from the feature sets\n",
        "training_set.drop('label', axis=1, inplace=True)\n",
        "testing_set.drop('label', axis=1, inplace=True)\n",
        "\n",
        "# print the first few rows of the testing set to verify that it was loaded correctly\n",
        "testing_set.head()\n"
      ]
    },
    {
      "cell_type": "code",
      "execution_count": null,
      "metadata": {
        "colab": {
          "base_uri": "https://localhost:8080/"
        },
        "id": "J2AuguLNRxJ9",
        "outputId": "1dc714f4-7090-48ad-865b-76a7f30c369f"
      },
      "outputs": [
        {
          "data": {
            "text/plain": [
              "array([ 0,  1,  2,  3,  4,  5,  6,  7,  8, 10, 11, 12, 13, 14, 15, 16, 17,\n",
              "       18, 19, 20, 21, 22, 23, 24])"
            ]
          },
          "execution_count": 13,
          "metadata": {},
          "output_type": "execute_result"
        }
      ],
      "source": [
        "# extract the features from the training and testing sets\n",
        "x_train = training_set.values\n",
        "x_test = testing_set.values\n",
        "\n",
        "# create an array of unique labels in the training set\n",
        "unique_val = np.array(y_train)\n",
        "np.unique(unique_val)\n"
      ]
    },
    {
      "cell_type": "code",
      "execution_count": null,
      "metadata": {
        "id": "oia-r1cxRzbC"
      },
      "outputs": [],
      "source": [
        "# reshape the feature sets to match the required format for the model\n",
        "x_train = np.array(x_train.reshape(-1, 28, 28, 1))\n",
        "x_test = np.array(x_test.reshape(-1, 28, 28, 1))"
      ]
    },
    {
      "cell_type": "code",
      "execution_count": null,
      "metadata": {
        "id": "iq3gi3CkR4Rb"
      },
      "outputs": [],
      "source": [
        "# import LabelBinarizer from sklearn.preprocessing\n",
        "from sklearn.preprocessing import LabelBinarizer\n",
        "\n",
        "# create a LabelBinarizer object for the training and testing label sets\n",
        "label_train = LabelBinarizer()\n",
        "label_test = LabelBinarizer()\n",
        "\n",
        "# transform the training and testing labels using the LabelBinarizer objects\n",
        "y_train = label_train.fit_transform(y_train)\n",
        "y_test = label_test.fit_transform(y_test)"
      ]
    },
    {
      "cell_type": "code",
      "execution_count": null,
      "metadata": {
        "colab": {
          "base_uri": "https://localhost:8080/",
          "height": 448
        },
        "id": "xNDUy8I1R9Az",
        "outputId": "8a19d077-cb68-4520-da1b-94262e66a222"
      },
      "outputs": [
        {
          "data": {
            "text/plain": [
              "<matplotlib.image.AxesImage at 0x7facaee22200>"
            ]
          },
          "execution_count": 17,
          "metadata": {},
          "output_type": "execute_result"
        },
        {
          "data": {
            "image/png": "[encoded data removed]",
            "text/plain": [
              "<Figure size 640x480 with 1 Axes>"
            ]
          },
          "metadata": {},
          "output_type": "display_data"
        }
      ],
      "source": [
        "# import the pyplot module from matplotlib\n",
        "import matplotlib.pyplot as plt\n",
        "\n",
        "# display an example image from the training set\n",
        "plt.imshow(x_train[10].reshape(28, 28), cmap='gray')"
      ]
    },
    {
      "cell_type": "code",
      "execution_count": null,
      "metadata": {
        "id": "P7cHZ23LR_w2"
      },
      "outputs": [],
      "source": [
        "# scale the feature sets by dividing by the maximum pixel value (255)\n",
        "x_train = x_train / 255\n",
        "x_test = x_test / 255"
      ]
    },
    {
      "cell_type": "code",
      "execution_count": null,
      "metadata": {},
      "outputs": [
        {
          "data": {
            "image/png": "[encoded data removed]",
            "text/plain": [
              "<Figure size 1500x1500 with 4 Axes>"
            ]
          },
          "metadata": {},
          "output_type": "display_data"
        }
      ],
      "source": [
        "import cv2\n",
        "from matplotlib import pyplot as plt\n",
        "\n",
        "def visualize_preprocessing_steps(image_index):\n",
        "    # Get the original image\n",
        "    original_image = x_train[image_index].reshape(28, 28) * 255\n",
        "    original_image = original_image.astype(np.uint8)\n",
        "\n",
        "    # Resize the image\n",
        "    resized_image = cv2.resize(original_image, (28, 28))\n",
        "\n",
        "    # Grayscale the image\n",
        "    grayscaled_image = cv2.cvtColor(resized_image, cv2.COLOR_GRAY2BGR)\n",
        "\n",
        "    # Apply Gaussian blur\n",
        "    blurred_image = cv2.GaussianBlur(grayscaled_image, (3, 3), 0)\n",
        "\n",
        "    # Plot the images\n",
        "    fig, axes = plt.subplots(1, 4, figsize=(15, 15))\n",
        "\n",
        "    axes[0].imshow(original_image, cmap='gray')\n",
        "    axes[0].set_title('Original Image')\n",
        "\n",
        "    axes[1].imshow(resized_image, cmap='gray')\n",
        "    axes[1].set_title('Resized Image')\n",
        "\n",
        "    axes[2].imshow(grayscaled_image, cmap='gray')\n",
        "    axes[2].set_title('Grayscaled Image')\n",
        "\n",
        "    axes[3].imshow(blurred_image, cmap='gray')\n",
        "    axes[3].set_title('Blurred Image')\n",
        "\n",
        "    for ax in axes:\n",
        "        ax.axis('off')\n",
        "\n",
        "    plt.show()\n",
        "\n",
        "# Call the function with an example image index\n",
        "visualize_preprocessing_steps(14)\n"
      ]
    },
    {
      "attachments": {},
      "cell_type": "markdown",
      "metadata": {
        "id": "tQY5c_OLSC0b"
      },
      "source": [
        "# training\n"
      ]
    },
    {
      "cell_type": "code",
      "execution_count": null,
      "metadata": {
        "id": "R0QdLxGrSCgX"
      },
      "outputs": [
        {
          "name": "stderr",
          "output_type": "stream",
          "text": [
            "2023-04-23 23:54:08.584230: I tensorflow/core/platform/cpu_feature_guard.cc:193] This TensorFlow binary is optimized with oneAPI Deep Neural Network Library (oneDNN) to use the following CPU instructions in performance-critical operations:  SSE4.1 SSE4.2\n",
            "To enable them in other operations, rebuild TensorFlow with the appropriate compiler flags.\n"
          ]
        }
      ],
      "source": [
        "# import the keras library\n",
        "import keras\n",
        "\n",
        "# import the necessary modules from keras\n",
        "from keras.models import Sequential\n",
        "from keras.layers import Dense, Conv2D, MaxPooling2D, Flatten, Dropout\n"
      ]
    },
    {
      "cell_type": "code",
      "execution_count": null,
      "metadata": {
        "id": "JBdijqnJUOuU"
      },
      "outputs": [],
      "source": [
        "# set the batch size for training\n",
        "batch_size = 128\n",
        "\n",
        "# set the number of classes in the dataset\n",
        "num_classes = 24\n",
        "\n",
        "# set the number of epochs for training\n",
        "epochs = 100"
      ]
    },
    {
      "cell_type": "code",
      "execution_count": null,
      "metadata": {
        "id": "qPfWp8C5UR6w"
      },
      "outputs": [],
      "source": [
        "# create a Sequential model object\n",
        "model = Sequential()\n",
        "\n",
        "# add a convolutional layer with 64 filters, a 3x3 kernel, and 'relu' activation\n",
        "# input_shape specifies the size of the input images\n",
        "model.add(Conv2D(64, kernel_size=(3, 3), activation='relu', input_shape=(28, 28, 1)))\n",
        "\n",
        "# add a max pooling layer with a 2x2 pool size\n",
        "model.add(MaxPooling2D(pool_size=(2, 2)))\n",
        "\n",
        "# add another convolutional layer with 64 filters, a 3x3 kernel, and 'relu' activation\n",
        "model.add(Conv2D(64, kernel_size=(3, 3), activation='relu'))\n",
        "\n",
        "# add another max pooling layer with a 2x2 pool size\n",
        "model.add(MaxPooling2D(pool_size=(2, 2)))\n",
        "\n",
        "# add a dropout layer with a rate of 0.20\n",
        "model.add(Dropout(0.20))\n",
        "\n",
        "# add another convolutional layer with 64 filters, a 3x3 kernel, and 'relu' activation\n",
        "model.add(Conv2D(64, kernel_size=(3, 3), activation='relu'))\n",
        "\n",
        "# add another max pooling layer with a 2x2 pool size\n",
        "model.add(MaxPooling2D(pool_size=(2, 2)))\n",
        "\n",
        "# add another dropout layer with a rate of 0.20\n",
        "model.add(Dropout(0.20))\n",
        "\n",
        "# flatten the output from the previous layer into a 1D vector\n",
        "model.add(Flatten())\n",
        "\n",
        "# add a dense layer with 128 units and 'relu' activation\n",
        "model.add(Dense(128, activation='relu'))\n",
        "\n",
        "# add another dropout layer with a rate of 0.20\n",
        "model.add(Dropout(0.20))\n",
        "\n",
        "# add a final dense layer with 'num_classes' units and 'softmax' activation\n",
        "model.add(Dense(num_classes, activation='softmax'))\n"
      ]
    },
    {
      "cell_type": "code",
      "execution_count": null,
      "metadata": {
        "id": "mXNIN4DQUUmW"
      },
      "outputs": [],
      "source": [
        "# compile the model with categorical crossentropy loss, Adam optimizer, and accuracy metric\n",
        "model.compile(loss=keras.losses.categorical_crossentropy, optimizer=keras.optimizers.Adam(),\n",
        "              metrics=['accuracy'])\n"
      ]
    },
    {
      "cell_type": "code",
      "execution_count": 44,
      "metadata": {},
      "outputs": [
        {
          "name": "stdout",
          "output_type": "stream",
          "text": [
            "    Layer    Layer Type        Output Shape\n",
            "0       1        Conv2D  (None, 26, 26, 64)\n",
            "1       2  MaxPooling2D  (None, 13, 13, 64)\n",
            "2       3        Conv2D  (None, 11, 11, 64)\n",
            "3       4  MaxPooling2D    (None, 5, 5, 64)\n",
            "4       5       Dropout    (None, 5, 5, 64)\n",
            "5       6        Conv2D    (None, 3, 3, 64)\n",
            "6       7  MaxPooling2D    (None, 1, 1, 64)\n",
            "7       8       Dropout    (None, 1, 1, 64)\n",
            "8       9       Flatten          (None, 64)\n",
            "9      10         Dense         (None, 128)\n",
            "10     11       Dropout         (None, 128)\n",
            "11     12         Dense          (None, 24)\n"
          ]
        }
      ],
      "source": [
        "import pandas as pd\n",
        "\n",
        "def visualize_model(model):\n",
        "    layers_info = []\n",
        "\n",
        "    for i, layer in enumerate(model.layers):\n",
        "        layer_info = {\n",
        "            'Layer': i + 1,\n",
        "            'Layer Type': layer.__class__.__name__,\n",
        "            'Output Shape': layer.output_shape\n",
        "        }\n",
        "        layers_info.append(layer_info)\n",
        "\n",
        "    df = pd.DataFrame(layers_info)\n",
        "    return df\n",
        "\n",
        "model = keras.models.load_model(\"sign_language\")\n",
        "architecture_table = visualize_model(model)\n",
        "print(architecture_table)\n"
      ]
    },
    {
      "cell_type": "code",
      "execution_count": null,
      "metadata": {
        "colab": {
          "base_uri": "https://localhost:8080/"
        },
        "id": "6La5NDKWUYQN",
        "outputId": "f5669520-89bf-440a-a243-6c5f76e46188"
      },
      "outputs": [
        {
          "name": "stdout",
          "output_type": "stream",
          "text": [
            "Epoch 1/100\n",
            "215/215 [==============================] - 43s 191ms/step - loss: 2.5509 - accuracy: 0.2078 - val_loss: 1.4404 - val_accuracy: 0.5718\n",
            "Epoch 2/100\n",
            "215/215 [==============================] - 33s 156ms/step - loss: 1.2282 - accuracy: 0.5823 - val_loss: 0.8184 - val_accuracy: 0.7464\n",
            "Epoch 3/100\n",
            "215/215 [==============================] - 30s 138ms/step - loss: 0.7861 - accuracy: 0.7321 - val_loss: 0.5681 - val_accuracy: 0.8065\n",
            "Epoch 4/100\n",
            "215/215 [==============================] - 29s 135ms/step - loss: 0.5741 - accuracy: 0.8049 - val_loss: 0.4740 - val_accuracy: 0.8405\n",
            "Epoch 5/100\n",
            "215/215 [==============================] - 29s 134ms/step - loss: 0.4418 - accuracy: 0.8491 - val_loss: 0.3724 - val_accuracy: 0.8685\n",
            "Epoch 6/100\n",
            "215/215 [==============================] - 29s 133ms/step - loss: 0.3506 - accuracy: 0.8826 - val_loss: 0.3297 - val_accuracy: 0.8925\n",
            "Epoch 7/100\n",
            "215/215 [==============================] - 31s 145ms/step - loss: 0.2863 - accuracy: 0.9037 - val_loss: 0.3016 - val_accuracy: 0.9009\n",
            "Epoch 8/100\n",
            "215/215 [==============================] - 30s 140ms/step - loss: 0.2423 - accuracy: 0.9211 - val_loss: 0.2644 - val_accuracy: 0.9048\n",
            "Epoch 9/100\n",
            "215/215 [==============================] - 29s 133ms/step - loss: 0.2099 - accuracy: 0.9274 - val_loss: 0.2561 - val_accuracy: 0.9208\n",
            "Epoch 10/100\n",
            "215/215 [==============================] - 30s 138ms/step - loss: 0.1792 - accuracy: 0.9404 - val_loss: 0.2355 - val_accuracy: 0.9223\n",
            "Epoch 11/100\n",
            "215/215 [==============================] - 30s 138ms/step - loss: 0.1588 - accuracy: 0.9457 - val_loss: 0.2370 - val_accuracy: 0.9208\n",
            "Epoch 12/100\n",
            "215/215 [==============================] - 30s 139ms/step - loss: 0.1380 - accuracy: 0.9557 - val_loss: 0.2335 - val_accuracy: 0.9243\n",
            "Epoch 13/100\n",
            "215/215 [==============================] - 30s 138ms/step - loss: 0.1252 - accuracy: 0.9590 - val_loss: 0.2265 - val_accuracy: 0.9279\n",
            "Epoch 14/100\n",
            "215/215 [==============================] - 29s 134ms/step - loss: 0.1133 - accuracy: 0.9627 - val_loss: 0.2116 - val_accuracy: 0.9308\n",
            "Epoch 15/100\n",
            "215/215 [==============================] - 29s 136ms/step - loss: 0.1049 - accuracy: 0.9649 - val_loss: 0.2370 - val_accuracy: 0.9269\n",
            "Epoch 16/100\n",
            "215/215 [==============================] - 29s 136ms/step - loss: 0.1005 - accuracy: 0.9680 - val_loss: 0.1915 - val_accuracy: 0.9385\n",
            "Epoch 17/100\n",
            "215/215 [==============================] - 29s 134ms/step - loss: 0.0896 - accuracy: 0.9714 - val_loss: 0.1868 - val_accuracy: 0.9452\n",
            "Epoch 18/100\n",
            "215/215 [==============================] - 29s 133ms/step - loss: 0.0844 - accuracy: 0.9727 - val_loss: 0.1978 - val_accuracy: 0.9406\n",
            "Epoch 19/100\n",
            "215/215 [==============================] - 30s 138ms/step - loss: 0.0778 - accuracy: 0.9745 - val_loss: 0.1767 - val_accuracy: 0.9435\n",
            "Epoch 20/100\n",
            "215/215 [==============================] - 29s 137ms/step - loss: 0.0720 - accuracy: 0.9765 - val_loss: 0.1782 - val_accuracy: 0.9430\n",
            "Epoch 21/100\n",
            "215/215 [==============================] - 29s 136ms/step - loss: 0.0715 - accuracy: 0.9771 - val_loss: 0.1691 - val_accuracy: 0.9492\n",
            "Epoch 22/100\n",
            "215/215 [==============================] - 30s 138ms/step - loss: 0.0607 - accuracy: 0.9795 - val_loss: 0.1969 - val_accuracy: 0.9537\n",
            "Epoch 23/100\n",
            "215/215 [==============================] - 29s 134ms/step - loss: 0.0650 - accuracy: 0.9798 - val_loss: 0.1873 - val_accuracy: 0.9522\n",
            "Epoch 24/100\n",
            "215/215 [==============================] - 30s 138ms/step - loss: 0.0559 - accuracy: 0.9823 - val_loss: 0.1934 - val_accuracy: 0.9481\n",
            "Epoch 25/100\n",
            "215/215 [==============================] - 30s 141ms/step - loss: 0.0564 - accuracy: 0.9819 - val_loss: 0.1738 - val_accuracy: 0.9551\n",
            "Epoch 26/100\n",
            "215/215 [==============================] - 30s 138ms/step - loss: 0.0483 - accuracy: 0.9839 - val_loss: 0.2392 - val_accuracy: 0.9359\n",
            "Epoch 27/100\n",
            "215/215 [==============================] - 30s 139ms/step - loss: 0.0428 - accuracy: 0.9858 - val_loss: 0.1994 - val_accuracy: 0.9523\n",
            "Epoch 28/100\n",
            "215/215 [==============================] - 30s 138ms/step - loss: 0.0484 - accuracy: 0.9846 - val_loss: 0.1948 - val_accuracy: 0.9504\n",
            "Epoch 29/100\n",
            "215/215 [==============================] - 29s 134ms/step - loss: 0.0467 - accuracy: 0.9847 - val_loss: 0.1846 - val_accuracy: 0.9488\n",
            "Epoch 30/100\n",
            "215/215 [==============================] - 30s 139ms/step - loss: 0.0432 - accuracy: 0.9864 - val_loss: 0.1967 - val_accuracy: 0.9536\n",
            "Epoch 31/100\n",
            "215/215 [==============================] - 30s 138ms/step - loss: 0.0413 - accuracy: 0.9869 - val_loss: 0.2247 - val_accuracy: 0.9491\n",
            "Epoch 32/100\n",
            "215/215 [==============================] - 30s 138ms/step - loss: 0.0408 - accuracy: 0.9870 - val_loss: 0.1894 - val_accuracy: 0.9469\n",
            "Epoch 33/100\n",
            "215/215 [==============================] - 30s 139ms/step - loss: 0.0360 - accuracy: 0.9879 - val_loss: 0.2324 - val_accuracy: 0.9502\n",
            "Epoch 34/100\n",
            "215/215 [==============================] - 30s 137ms/step - loss: 0.0359 - accuracy: 0.9872 - val_loss: 0.2062 - val_accuracy: 0.9491\n",
            "Epoch 35/100\n",
            "215/215 [==============================] - 29s 133ms/step - loss: 0.0368 - accuracy: 0.9884 - val_loss: 0.2049 - val_accuracy: 0.9476\n",
            "Epoch 36/100\n",
            "215/215 [==============================] - 30s 138ms/step - loss: 0.0349 - accuracy: 0.9882 - val_loss: 0.1964 - val_accuracy: 0.9557\n",
            "Epoch 37/100\n",
            "215/215 [==============================] - 30s 139ms/step - loss: 0.0343 - accuracy: 0.9890 - val_loss: 0.1836 - val_accuracy: 0.9506\n",
            "Epoch 38/100\n",
            "215/215 [==============================] - 29s 137ms/step - loss: 0.0365 - accuracy: 0.9874 - val_loss: 0.2000 - val_accuracy: 0.9382\n",
            "Epoch 39/100\n",
            "215/215 [==============================] - 30s 138ms/step - loss: 0.0297 - accuracy: 0.9908 - val_loss: 0.1973 - val_accuracy: 0.9494\n",
            "Epoch 40/100\n",
            "215/215 [==============================] - 29s 137ms/step - loss: 0.0272 - accuracy: 0.9912 - val_loss: 0.2010 - val_accuracy: 0.9501\n",
            "Epoch 41/100\n",
            "215/215 [==============================] - 29s 134ms/step - loss: 0.0345 - accuracy: 0.9884 - val_loss: 0.2235 - val_accuracy: 0.9547\n",
            "Epoch 42/100\n",
            "215/215 [==============================] - 29s 133ms/step - loss: 0.0333 - accuracy: 0.9898 - val_loss: 0.2086 - val_accuracy: 0.9445\n",
            "Epoch 43/100\n",
            "215/215 [==============================] - 29s 133ms/step - loss: 0.0282 - accuracy: 0.9914 - val_loss: 0.1548 - val_accuracy: 0.9550\n",
            "Epoch 44/100\n",
            "215/215 [==============================] - 30s 138ms/step - loss: 0.0299 - accuracy: 0.9905 - val_loss: 0.1969 - val_accuracy: 0.9568\n",
            "Epoch 45/100\n",
            "215/215 [==============================] - 30s 139ms/step - loss: 0.0291 - accuracy: 0.9902 - val_loss: 0.1712 - val_accuracy: 0.9480\n",
            "Epoch 46/100\n",
            "215/215 [==============================] - 28s 132ms/step - loss: 0.0239 - accuracy: 0.9923 - val_loss: 0.1795 - val_accuracy: 0.9525\n",
            "Epoch 47/100\n",
            "215/215 [==============================] - 28s 132ms/step - loss: 0.0277 - accuracy: 0.9908 - val_loss: 0.1675 - val_accuracy: 0.9590\n",
            "Epoch 48/100\n",
            "215/215 [==============================] - 30s 138ms/step - loss: 0.0239 - accuracy: 0.9922 - val_loss: 0.2065 - val_accuracy: 0.9479\n",
            "Epoch 49/100\n",
            "215/215 [==============================] - 30s 138ms/step - loss: 0.0274 - accuracy: 0.9910 - val_loss: 0.1848 - val_accuracy: 0.9575\n",
            "Epoch 50/100\n",
            "215/215 [==============================] - 29s 136ms/step - loss: 0.0300 - accuracy: 0.9901 - val_loss: 0.1776 - val_accuracy: 0.9487\n",
            "Epoch 51/100\n",
            "215/215 [==============================] - 29s 133ms/step - loss: 0.0250 - accuracy: 0.9920 - val_loss: 0.1784 - val_accuracy: 0.9523\n",
            "Epoch 52/100\n",
            "215/215 [==============================] - 30s 138ms/step - loss: 0.0269 - accuracy: 0.9908 - val_loss: 0.2141 - val_accuracy: 0.9527\n",
            "Epoch 53/100\n",
            "215/215 [==============================] - 28s 132ms/step - loss: 0.0240 - accuracy: 0.9919 - val_loss: 0.1543 - val_accuracy: 0.9548\n",
            "Epoch 54/100\n",
            "215/215 [==============================] - 29s 137ms/step - loss: 0.0203 - accuracy: 0.9937 - val_loss: 0.1776 - val_accuracy: 0.9590\n",
            "Epoch 55/100\n",
            "215/215 [==============================] - 29s 136ms/step - loss: 0.0196 - accuracy: 0.9942 - val_loss: 0.1706 - val_accuracy: 0.9566\n",
            "Epoch 56/100\n",
            "215/215 [==============================] - 28s 132ms/step - loss: 0.0202 - accuracy: 0.9935 - val_loss: 0.1708 - val_accuracy: 0.9584\n",
            "Epoch 57/100\n",
            "215/215 [==============================] - 29s 137ms/step - loss: 0.0237 - accuracy: 0.9923 - val_loss: 0.2232 - val_accuracy: 0.9578\n",
            "Epoch 58/100\n",
            "215/215 [==============================] - 28s 132ms/step - loss: 0.0179 - accuracy: 0.9948 - val_loss: 0.2134 - val_accuracy: 0.9502\n",
            "Epoch 59/100\n",
            "215/215 [==============================] - 29s 137ms/step - loss: 0.0233 - accuracy: 0.9921 - val_loss: 0.1943 - val_accuracy: 0.9541\n",
            "Epoch 60/100\n",
            "215/215 [==============================] - 30s 138ms/step - loss: 0.0202 - accuracy: 0.9938 - val_loss: 0.1739 - val_accuracy: 0.9578\n",
            "Epoch 61/100\n",
            "215/215 [==============================] - 29s 137ms/step - loss: 0.0186 - accuracy: 0.9942 - val_loss: 0.2233 - val_accuracy: 0.9491\n",
            "Epoch 62/100\n",
            "215/215 [==============================] - 29s 137ms/step - loss: 0.0224 - accuracy: 0.9926 - val_loss: 0.1918 - val_accuracy: 0.9569\n",
            "Epoch 63/100\n",
            "215/215 [==============================] - 29s 137ms/step - loss: 0.0176 - accuracy: 0.9941 - val_loss: 0.2313 - val_accuracy: 0.9481\n",
            "Epoch 64/100\n",
            "215/215 [==============================] - 30s 138ms/step - loss: 0.0184 - accuracy: 0.9941 - val_loss: 0.1808 - val_accuracy: 0.9561\n",
            "Epoch 65/100\n",
            "215/215 [==============================] - 29s 137ms/step - loss: 0.0207 - accuracy: 0.9933 - val_loss: 0.2088 - val_accuracy: 0.9522\n",
            "Epoch 66/100\n",
            "215/215 [==============================] - 28s 132ms/step - loss: 0.0204 - accuracy: 0.9936 - val_loss: 0.2010 - val_accuracy: 0.9557\n",
            "Epoch 67/100\n",
            "215/215 [==============================] - 29s 137ms/step - loss: 0.0179 - accuracy: 0.9941 - val_loss: 0.1843 - val_accuracy: 0.9515\n",
            "Epoch 68/100\n",
            "215/215 [==============================] - 29s 137ms/step - loss: 0.0187 - accuracy: 0.9942 - val_loss: 0.1792 - val_accuracy: 0.9589\n",
            "Epoch 69/100\n",
            "215/215 [==============================] - 29s 137ms/step - loss: 0.0193 - accuracy: 0.9934 - val_loss: 0.1826 - val_accuracy: 0.9597\n",
            "Epoch 70/100\n",
            "215/215 [==============================] - 28s 131ms/step - loss: 0.0170 - accuracy: 0.9950 - val_loss: 0.1741 - val_accuracy: 0.9582\n",
            "Epoch 71/100\n",
            "215/215 [==============================] - 29s 136ms/step - loss: 0.0205 - accuracy: 0.9938 - val_loss: 0.1779 - val_accuracy: 0.9533\n",
            "Epoch 72/100\n",
            "215/215 [==============================] - 28s 132ms/step - loss: 0.0125 - accuracy: 0.9955 - val_loss: 0.1500 - val_accuracy: 0.9601\n",
            "Epoch 73/100\n",
            "215/215 [==============================] - 29s 136ms/step - loss: 0.0134 - accuracy: 0.9956 - val_loss: 0.1578 - val_accuracy: 0.9615\n",
            "Epoch 74/100\n",
            "215/215 [==============================] - 29s 137ms/step - loss: 0.0193 - accuracy: 0.9940 - val_loss: 0.1771 - val_accuracy: 0.9544\n",
            "Epoch 75/100\n",
            "215/215 [==============================] - 29s 137ms/step - loss: 0.0244 - accuracy: 0.9924 - val_loss: 0.1669 - val_accuracy: 0.9575\n",
            "Epoch 76/100\n",
            "215/215 [==============================] - 28s 132ms/step - loss: 0.0167 - accuracy: 0.9946 - val_loss: 0.1805 - val_accuracy: 0.9536\n",
            "Epoch 77/100\n",
            "215/215 [==============================] - 29s 136ms/step - loss: 0.0151 - accuracy: 0.9950 - val_loss: 0.1634 - val_accuracy: 0.9593\n",
            "Epoch 78/100\n",
            "215/215 [==============================] - 29s 136ms/step - loss: 0.0158 - accuracy: 0.9949 - val_loss: 0.1689 - val_accuracy: 0.9587\n",
            "Epoch 79/100\n",
            "215/215 [==============================] - 29s 137ms/step - loss: 0.0151 - accuracy: 0.9945 - val_loss: 0.2262 - val_accuracy: 0.9466\n",
            "Epoch 80/100\n",
            "215/215 [==============================] - 28s 131ms/step - loss: 0.0145 - accuracy: 0.9958 - val_loss: 0.1773 - val_accuracy: 0.9558\n",
            "Epoch 81/100\n",
            "215/215 [==============================] - 29s 137ms/step - loss: 0.0156 - accuracy: 0.9952 - val_loss: 0.1643 - val_accuracy: 0.9576\n",
            "Epoch 82/100\n",
            "215/215 [==============================] - 29s 136ms/step - loss: 0.0191 - accuracy: 0.9940 - val_loss: 0.1882 - val_accuracy: 0.9541\n",
            "Epoch 83/100\n",
            "215/215 [==============================] - 29s 135ms/step - loss: 0.0197 - accuracy: 0.9937 - val_loss: 0.1548 - val_accuracy: 0.9663\n",
            "Epoch 84/100\n",
            "215/215 [==============================] - 29s 137ms/step - loss: 0.0132 - accuracy: 0.9958 - val_loss: 0.1543 - val_accuracy: 0.9637\n",
            "Epoch 85/100\n",
            "215/215 [==============================] - 28s 131ms/step - loss: 0.0155 - accuracy: 0.9948 - val_loss: 0.1385 - val_accuracy: 0.9632\n",
            "Epoch 86/100\n",
            "215/215 [==============================] - 29s 137ms/step - loss: 0.0152 - accuracy: 0.9951 - val_loss: 0.1427 - val_accuracy: 0.9607\n",
            "Epoch 87/100\n",
            "215/215 [==============================] - 29s 136ms/step - loss: 0.0149 - accuracy: 0.9952 - val_loss: 0.1675 - val_accuracy: 0.9561\n",
            "Epoch 88/100\n",
            "215/215 [==============================] - 29s 136ms/step - loss: 0.0125 - accuracy: 0.9958 - val_loss: 0.1846 - val_accuracy: 0.9565\n",
            "Epoch 89/100\n",
            "215/215 [==============================] - 29s 137ms/step - loss: 0.0160 - accuracy: 0.9947 - val_loss: 0.1834 - val_accuracy: 0.9584\n",
            "Epoch 90/100\n",
            "215/215 [==============================] - 29s 137ms/step - loss: 0.0149 - accuracy: 0.9954 - val_loss: 0.2104 - val_accuracy: 0.9502\n",
            "Epoch 91/100\n",
            "215/215 [==============================] - 29s 137ms/step - loss: 0.0165 - accuracy: 0.9951 - val_loss: 0.1618 - val_accuracy: 0.9600\n",
            "Epoch 92/100\n",
            "215/215 [==============================] - 29s 133ms/step - loss: 0.0136 - accuracy: 0.9954 - val_loss: 0.1567 - val_accuracy: 0.9520\n",
            "Epoch 93/100\n",
            "215/215 [==============================] - 30s 137ms/step - loss: 0.0135 - accuracy: 0.9954 - val_loss: 0.1547 - val_accuracy: 0.9561\n",
            "Epoch 94/100\n",
            "215/215 [==============================] - 29s 136ms/step - loss: 0.0129 - accuracy: 0.9955 - val_loss: 0.1737 - val_accuracy: 0.9569\n",
            "Epoch 95/100\n",
            "215/215 [==============================] - 29s 136ms/step - loss: 0.0128 - accuracy: 0.9961 - val_loss: 0.1623 - val_accuracy: 0.9544\n",
            "Epoch 96/100\n",
            "215/215 [==============================] - 28s 132ms/step - loss: 0.0123 - accuracy: 0.9960 - val_loss: 0.1919 - val_accuracy: 0.9522\n",
            "Epoch 97/100\n",
            "215/215 [==============================] - 29s 137ms/step - loss: 0.0144 - accuracy: 0.9952 - val_loss: 0.2199 - val_accuracy: 0.9525\n",
            "Epoch 98/100\n",
            "215/215 [==============================] - 29s 133ms/step - loss: 0.0164 - accuracy: 0.9949 - val_loss: 0.1663 - val_accuracy: 0.9548\n",
            "Epoch 99/100\n",
            "215/215 [==============================] - 29s 136ms/step - loss: 0.0140 - accuracy: 0.9957 - val_loss: 0.2025 - val_accuracy: 0.9582\n",
            "Epoch 100/100\n",
            "215/215 [==============================] - 28s 131ms/step - loss: 0.0126 - accuracy: 0.9954 - val_loss: 0.1855 - val_accuracy: 0.9522\n"
          ]
        }
      ],
      "source": [
        "# train the model using the training data and validation data\n",
        "history = model.fit(x_train, y_train, validation_data=(x_test, y_test), epochs=epochs, batch_size=batch_size)\n"
      ]
    },
    {
      "cell_type": "code",
      "execution_count": null,
      "metadata": {
        "colab": {
          "base_uri": "https://localhost:8080/",
          "height": 472
        },
        "id": "y6sKQdpoUeF6",
        "outputId": "2e89f002-4063-4464-bbd7-dae713fbaf52"
      },
      "outputs": [
        {
          "data": {
            "image/png": "[encoded data removed]",
            "text/plain": [
              "<Figure size 640x480 with 1 Axes>"
            ]
          },
          "metadata": {},
          "output_type": "display_data"
        }
      ],
      "source": [
        "# plot the training and testing accuracy over epochs\n",
        "plt.plot(history.history['accuracy'])\n",
        "plt.plot(history.history['val_accuracy'])\n",
        "plt.title(\"Accuracy\")\n",
        "plt.xlabel('epoch')\n",
        "plt.ylabel('accuracy')\n",
        "plt.legend(['train', 'test'])\n",
        "plt.show()"
      ]
    },
    {
      "cell_type": "code",
      "execution_count": null,
      "metadata": {
        "colab": {
          "base_uri": "https://localhost:8080/"
        },
        "id": "xipNqfmIUh-3",
        "outputId": "d91d625d-5bfe-4331-a9ef-84154442ff83"
      },
      "outputs": [
        {
          "name": "stderr",
          "output_type": "stream",
          "text": [
            "WARNING:absl:Found untraced functions such as _jit_compiled_convolution_op, _jit_compiled_convolution_op, _jit_compiled_convolution_op while saving (showing 3 of 3). These functions will not be directly callable after loading.\n"
          ]
        }
      ],
      "source": [
        "# save the trained model to a file\n",
        "model.save('sign_language')"
      ]
    }
  ],
  "metadata": {
    "colab": {
      "provenance": []
    },
    "kernelspec": {
      "display_name": "Python 3",
      "name": "python3"
    },
    "language_info": {
      "codemirror_mode": {
        "name": "ipython",
        "version": 3
      },
      "file_extension": ".py",
      "mimetype": "text/x-python",
      "name": "python",
      "nbconvert_exporter": "python",
      "pygments_lexer": "ipython3",
      "version": "3.10.11"
    }
  },
  "nbformat": 4,
  "nbformat_minor": 0
}
